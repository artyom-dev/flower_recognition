{
 "cells": [
  {
   "cell_type": "code",
   "execution_count": 6,
   "id": "05837c4f",
   "metadata": {},
   "outputs": [],
   "source": [
    "import pandas as pd \n",
    "import numpy as np \n",
    "import matplotlib.pyplot as plt \n",
    "import os \n",
    "import torchvision \n",
    "from sklearn.model_selection import train_test_split \n",
    "from torch.utils.data import Dataset, DataLoader, random_split, SubsetRandomSampler, WeightedRandomSampler\n",
    "from torchvision import datasets, transforms\n",
    "import torch \n",
    "from pathlib import Path\n",
    "import pathlib\n",
    "import seaborn as sns "
   ]
  },
  {
   "cell_type": "markdown",
   "id": "801094a0",
   "metadata": {},
   "source": [
    "# Is the dataset balanced?\n"
   ]
  },
  {
   "cell_type": "code",
   "execution_count": 7,
   "id": "ef6b27ef",
   "metadata": {},
   "outputs": [],
   "source": [
    "root = r'C:\\Users\\USER\\Desktop\\New_task\\flowers-recognition\\flowers'\n",
    "daisy = Path(root)/'daisy'\n",
    "dandelion = Path(root)/'dandelion'\n",
    "rose = Path(root)/'rose'\n",
    "sunflower = Path(root)/'sunflower'\n",
    "tulip = Path(root)/'tulip'\n",
    "paths = [daisy, dandelion, rose, sunflower, tulip]"
   ]
  },
  {
   "cell_type": "code",
   "execution_count": 11,
   "id": "61f9364b",
   "metadata": {},
   "outputs": [],
   "source": [
    "def count_images(paths):\n",
    "    ''' \n",
    "    Use for count files in each folder\n",
    "    paths = directory\n",
    "    '''\n",
    "    count = []\n",
    "    for clas in paths:\n",
    "        c = len(os.listdir(clas))\n",
    "        count.append(c)\n",
    "    return count"
   ]
  },
  {
   "cell_type": "code",
   "execution_count": 12,
   "id": "e1081b38",
   "metadata": {},
   "outputs": [],
   "source": [
    "labels = os.listdir(root)\n",
    "counts = count_images(paths)"
   ]
  },
  {
   "cell_type": "code",
   "execution_count": 16,
   "id": "0237b4e1",
   "metadata": {},
   "outputs": [],
   "source": [
    "def vizualize_ratios(labels, counts):\n",
    "    '''Vizualization of ratios in percentage\n",
    "        labels = List[classes]\n",
    "        counts = List[counts]\n",
    "    '''\n",
    "    colors = sns.color_palette('pastel')[0:5]\n",
    "    plt.figure(figsize = (10, 10))\n",
    "    plt.pie(counts, labels = labels, colors = colors, autopct='%.0f%%')\n",
    "    plt.show()\n"
   ]
  },
  {
   "cell_type": "code",
   "execution_count": 17,
   "id": "b6fe9081",
   "metadata": {},
   "outputs": [
    {
     "data": {
      "image/png": "[encoded data removed]",
      "text/plain": [
       "<Figure size 720x720 with 1 Axes>"
      ]
     },
     "metadata": {},
     "output_type": "display_data"
    }
   ],
   "source": [
    "vizualize_ratios(labels, counts)"
   ]
  },
  {
   "cell_type": "markdown",
   "id": "64a88f60",
   "metadata": {},
   "source": [
    "As we can see the dataset a bit imbalanced but ratios of classes are acceptable. Imbalance ratio is small and we doesnt need to \n",
    "apply some oversampling/undersampling techniques. Further, while model training I will show that we can obtain \n",
    "good results without changing anything in dataset."
   ]
  },
  {
   "cell_type": "markdown",
   "id": "0fa7302e",
   "metadata": {},
   "source": [
    "# What features should be involved in a train-test split decision? Should you use a stratification for that?"
   ]
  },
  {
   "cell_type": "markdown",
   "id": "a47c7672",
   "metadata": {},
   "source": [
    "Since dataset is small and comparably balanced, we will use all images for modeling.\n",
    "We can use train/test split using stratified sampling. Ratios of train/test are 80/20"
   ]
  },
  {
   "cell_type": "markdown",
   "id": "5dcaa803",
   "metadata": {},
   "source": [
    "Lets check the ratios of classes in train/test"
   ]
  },
  {
   "cell_type": "markdown",
   "id": "dd1693a8",
   "metadata": {},
   "source": [
    "Firstly, lets create PyTorch Dataset"
   ]
  },
  {
   "cell_type": "code",
   "execution_count": 18,
   "id": "e109877b",
   "metadata": {},
   "outputs": [],
   "source": [
    "def read_dataset(root, size):\n",
    "    \n",
    "    '''\n",
    "    Read, transform and create ImageFolder dataset:\n",
    "    root = directory\n",
    "    size = image size for transform\n",
    "    '''\n",
    "    flower_transform = transforms.Compose([transforms.Resize((size, size)),\n",
    "                                       transforms.ToTensor(), \n",
    "                                       transforms.Normalize(mean=[0.485, 0.456, 0.406], std=[0.229, 0.224, 0.225])])\n",
    "    flower_dataset = datasets.ImageFolder(root, transform=flower_transform)\n",
    "    return flower_dataset \n"
   ]
  },
  {
   "cell_type": "code",
   "execution_count": 19,
   "id": "78b12cf9",
   "metadata": {},
   "outputs": [
    {
     "data": {
      "text/plain": [
       "{'daisy': 0, 'dandelion': 1, 'rose': 2, 'sunflower': 3, 'tulip': 4}"
      ]
     },
     "execution_count": 19,
     "metadata": {},
     "output_type": "execute_result"
    }
   ],
   "source": [
    "flower_dataset = read_dataset(root, 224)\n",
    "flower_dataset.class_to_idx"
   ]
  },
  {
   "cell_type": "markdown",
   "id": "5402bc30",
   "metadata": {},
   "source": [
    "Now, define dictionary which replace key-value pairs (idx to class)"
   ]
  },
  {
   "cell_type": "code",
   "execution_count": 20,
   "id": "2fef5324",
   "metadata": {},
   "outputs": [
    {
     "data": {
      "text/plain": [
       "{0: 'daisy', 1: 'dandelion', 2: 'rose', 3: 'sunflower', 4: 'tulip'}"
      ]
     },
     "execution_count": 20,
     "metadata": {},
     "output_type": "execute_result"
    }
   ],
   "source": [
    "idx2class = {v: k for k, v in flower_dataset.class_to_idx.items()}\n",
    "idx2class"
   ]
  },
  {
   "cell_type": "code",
   "execution_count": 21,
   "id": "f5699198",
   "metadata": {},
   "outputs": [],
   "source": [
    "def get_class_distribution(dataset_obj):\n",
    "    count_dict = {k:0 for k,v in dataset_obj.class_to_idx.items()}\n",
    "    \n",
    "    for element in dataset_obj:\n",
    "        y_lbl = element[1]\n",
    "        y_lbl = idx2class[y_lbl]\n",
    "        count_dict[y_lbl] += 1\n",
    "            \n",
    "    return count_dict"
   ]
  },
  {
   "cell_type": "markdown",
   "id": "891b8f68",
   "metadata": {},
   "source": [
    "For understanding distribution of classes in dataset, lets define following function"
   ]
  },
  {
   "cell_type": "code",
   "execution_count": 22,
   "id": "827378cc",
   "metadata": {},
   "outputs": [
    {
     "name": "stdout",
     "output_type": "stream",
     "text": [
      "Distribution of classes: \n",
      " {'daisy': 764, 'dandelion': 1052, 'rose': 784, 'sunflower': 733, 'tulip': 984}\n"
     ]
    }
   ],
   "source": [
    "print(\"Distribution of classes: \\n\", get_class_distribution(flower_dataset))"
   ]
  },
  {
   "cell_type": "markdown",
   "id": "6bfb5b87",
   "metadata": {},
   "source": [
    "Dataset is small comparably to famous dataset such as CIFAR10 or MNIST. However, it's not so so small and count thousands images. Cross validation \n",
    "computation can be time consuming and costly in this case. "
   ]
  },
  {
   "cell_type": "markdown",
   "id": "2efcccc6",
   "metadata": {},
   "source": [
    "As we saw in previous step, class distribution isnt balanced. But imbalance level no critical\n",
    "\n",
    "We can use sklearn's train_test_split, which let us split dataset using stratification "
   ]
  },
  {
   "cell_type": "code",
   "execution_count": 28,
   "id": "e8db9a88",
   "metadata": {},
   "outputs": [],
   "source": [
    "def train_test_split_with_stratification(flower_dataset):\n",
    "    targets = flower_dataset.targets\n",
    "\n",
    "    train_idx, valid_idx= train_test_split(\n",
    "        np.arange(len(targets)), test_size=0.2, random_state=42, shuffle=True, stratify=targets)\n",
    "    \n",
    "    train_sampler = SubsetRandomSampler(train_idx)\n",
    "    val_sampler = SubsetRandomSampler(valid_idx)\n",
    "    \n",
    "    train_loader = DataLoader(dataset=flower_dataset, shuffle=False, batch_size=1, sampler=train_sampler)\n",
    "    val_loader = DataLoader(dataset=flower_dataset, shuffle=False, batch_size=1, sampler=val_sampler)\n",
    "    \n",
    "    return train_loader, val_loader"
   ]
  },
  {
   "cell_type": "markdown",
   "id": "f9bd7732",
   "metadata": {},
   "source": [
    "Similarly, we can define function for understanding classes distribution in DataLoaders"
   ]
  },
  {
   "cell_type": "code",
   "execution_count": 24,
   "id": "3e4bb06d",
   "metadata": {},
   "outputs": [],
   "source": [
    "train_loader, val_loader = train_test_split_with_stratification(flower_dataset)"
   ]
  },
  {
   "cell_type": "code",
   "execution_count": 25,
   "id": "d931614d",
   "metadata": {},
   "outputs": [],
   "source": [
    "def get_class_distribution_loaders(dataloader_obj, dataset_obj):\n",
    "    count_dict = {k:0 for k,v in dataset_obj.class_to_idx.items()}\n",
    "    \n",
    "    for _,j in dataloader_obj:\n",
    "        y_idx = j.item()\n",
    "        y_lbl = idx2class[y_idx]\n",
    "        count_dict[str(y_lbl)] += 1\n",
    "            \n",
    "    return count_dict"
   ]
  },
  {
   "cell_type": "code",
   "execution_count": 26,
   "id": "40d8ed3b",
   "metadata": {},
   "outputs": [
    {
     "data": {
      "text/plain": [
       "{'daisy': 611, 'dandelion': 842, 'rose': 627, 'sunflower': 586, 'tulip': 787}"
      ]
     },
     "execution_count": 26,
     "metadata": {},
     "output_type": "execute_result"
    }
   ],
   "source": [
    "get_class_distribution_loaders(train_loader, flower_dataset)"
   ]
  },
  {
   "cell_type": "code",
   "execution_count": 27,
   "id": "45d19f28",
   "metadata": {},
   "outputs": [
    {
     "data": {
      "text/plain": [
       "{'daisy': 153, 'dandelion': 210, 'rose': 157, 'sunflower': 147, 'tulip': 197}"
      ]
     },
     "execution_count": 27,
     "metadata": {},
     "output_type": "execute_result"
    }
   ],
   "source": [
    "get_class_distribution_loaders(val_loader, flower_dataset)"
   ]
  },
  {
   "cell_type": "markdown",
   "id": "2d334a8a",
   "metadata": {},
   "source": [
    "Ratios in both train and val. sets are the same as in original dataset"
   ]
  }
 ],
 "metadata": {
  "kernelspec": {
   "display_name": "Python 3 (ipykernel)",
   "language": "python",
   "name": "python3"
  },
  "language_info": {
   "codemirror_mode": {
    "name": "ipython",
    "version": 3
   },
   "file_extension": ".py",
   "mimetype": "text/x-python",
   "name": "python",
   "nbconvert_exporter": "python",
   "pygments_lexer": "ipython3",
   "version": "3.9.12"
  }
 },
 "nbformat": 4,
 "nbformat_minor": 5
}
