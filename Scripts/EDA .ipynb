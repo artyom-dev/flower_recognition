{
 "cells": [
  {
   "cell_type": "code",
   "execution_count": 182,
   "id": "05837c4f",
   "metadata": {
    "pycharm": {
     "name": "#%%\n"
    }
   },
   "outputs": [],
   "source": [
    "import pandas as pd \n",
    "import numpy as np \n",
    "import matplotlib.pyplot as plt \n",
    "import seaborn as sns \n",
    "import splitfolders\n",
    "import os \n",
    "import torchvision \n",
    "from sklearn.model_selection import train_test_split \n",
    "from torch.utils.data import Dataset, DataLoader, random_split, SubsetRandomSampler, WeightedRandomSampler\n",
    "from torchvision import datasets, transforms\n",
    "import torch "
   ]
  },
  {
   "cell_type": "markdown",
   "id": "801094a0",
   "metadata": {
    "pycharm": {
     "name": "#%% md\n"
    }
   },
   "source": [
    "# Is the dataset balanced?\n"
   ]
  },
  {
   "cell_type": "markdown",
   "id": "e3a2f254",
   "metadata": {
    "pycharm": {
     "name": "#%% md\n"
    }
   },
   "source": [
    "# DRY\n",
    " would be sophisticated to do something like `daisy = Path(root)/'daisy'`"
   ]
  },
  {
   "cell_type": "code",
   "execution_count": 57,
   "id": "ef6b27ef",
   "metadata": {
    "pycharm": {
     "name": "#%%\n"
    }
   },
   "outputs": [],
   "source": [
    "root = r'..\\\\Task\\\\flowers-recognition\\\\flowers'\n",
    "daisy = r'..\\\\Task\\\\flowers-recognition\\\\flowers\\\\daisy'\n",
    "dandelion = r'..\\\\Task\\\\flowers-recognition\\\\flowers\\\\dandelion'\n",
    "rose = r'..\\\\Task\\\\flowers-recognition\\\\flowers\\\\rose'\n",
    "sunflower = r'..\\\\Task\\\\flowers-recognition\\\\flowers\\\\sunflower'\n",
    "tulip = r'..\\\\Task\\\\flowers-recognition\\\\flowers\\\\tulip'"
   ]
  },
  {
   "cell_type": "markdown",
   "id": "592a9a81",
   "metadata": {
    "pycharm": {
     "name": "#%% md\n"
    }
   },
   "source": [
    "# Charts are more representative and more digestible than tables."
   ]
  },
  {
   "cell_type": "code",
   "execution_count": 71,
   "id": "ced039b9",
   "metadata": {
    "pycharm": {
     "name": "#%%\n"
    }
   },
   "outputs": [
    {
     "name": "stdout",
     "output_type": "stream",
     "text": [
      "Daisy count:  764  or  17.7 %\n",
      "Dandelion count:  1052  or  24.4 %\n",
      "Rose count:  784  or  18.2 %\n",
      "Sunflower count:  733  or  17.0 %\n",
      "Tulip count:  984  or  22.8 %\n",
      "Total images:  4317\n"
     ]
    }
   ],
   "source": [
    "daisy_count = len(os.listdir(daisy))\n",
    "dandelion_count = len(os.listdir(dandelion))\n",
    "rose_count = len(os.listdir(rose))\n",
    "sunflower_count = len(os.listdir(sunflower))\n",
    "tulip_count = len(os.listdir(tulip))\n",
    "total = (daisy_count + dandelion_count + rose_count + sunflower_count + tulip_count)\n",
    "print(\"Daisy count: \", daisy_count, ' or ', round(100 * (daisy_count/total), 1), \"%\")\n",
    "print(\"Dandelion count: \", dandelion_count, ' or ', round(100 * (dandelion_count/total), 1), '%')\n",
    "print(\"Rose count: \", rose_count, ' or ', round(100 * (rose_count/total), 1), \"%\")\n",
    "print(\"Sunflower count: \", sunflower_count, ' or ', round(100 * (sunflower_count/total), 1), '%')\n",
    "print(\"Tulip count: \", tulip_count, ' or ', round(100 * (tulip_count/total), 1), \"%\")\n",
    "print('Total images: ', total)"
   ]
  },
  {
   "cell_type": "markdown",
   "id": "64a88f60",
   "metadata": {
    "pycharm": {
     "name": "#%% md\n"
    }
   },
   "source": [
    "As we can see the dataset a bit imbalanced but ratios of classes are acceptable. Imbalance ratio is small and we doesnt need to \n",
    "apply some oversampling/undersampling techniques. Further, while model training I will show that we can obtain \n",
    "good results without changing anything in dataset."
   ]
  },
  {
   "cell_type": "markdown",
   "id": "0fa7302e",
   "metadata": {
    "pycharm": {
     "name": "#%% md\n"
    }
   },
   "source": [
    "# What features should be involved in a train-test split decision? Should you use a stratification for that?"
   ]
  },
  {
   "cell_type": "markdown",
   "id": "823992b0",
   "metadata": {
    "pycharm": {
     "name": "#%% md\n"
    }
   },
   "source": [
    "# if the dataset is small why didn't do a cross val check?"
   ]
  },
  {
   "cell_type": "markdown",
   "id": "a47c7672",
   "metadata": {
    "pycharm": {
     "name": "#%% md\n"
    }
   },
   "source": [
    "Since dataset is small and comparably balanced, we will use all images for modeling.\n",
    "We can use train/test split using stratified sampling. Ratios of train/test are 80/20"
   ]
  },
  {
   "cell_type": "markdown",
   "id": "5dcaa803",
   "metadata": {
    "pycharm": {
     "name": "#%% md\n"
    }
   },
   "source": [
    "Lets check the ratios of classes in train/test"
   ]
  },
  {
   "cell_type": "markdown",
   "id": "dd1693a8",
   "metadata": {
    "pycharm": {
     "name": "#%% md\n"
    }
   },
   "source": [
    "Firstly, lets create PyTorch Dataset"
   ]
  },
  {
   "cell_type": "code",
   "execution_count": null,
   "id": "5c36746d",
   "metadata": {
    "pycharm": {
     "is_executing": true,
     "name": "#%%\n"
    }
   },
   "outputs": [],
   "source": [
    "root_dir = \"../Task/flowers-recognition/flowers\"\n",
    "\n",
    "flower_transform = transforms.Compose([transforms.Resize((224,224)),\n",
    "                                       transforms.ToTensor(), \n",
    "                                       transforms.Normalize(mean=[0.485, 0.456, 0.406], std=[0.229, 0.224, 0.225])])\n",
    "flower_dataset = datasets.ImageFolder(root_dir, transform=flower_transform)"
   ]
  },
  {
   "cell_type": "code",
   "execution_count": 215,
   "id": "78b12cf9",
   "metadata": {
    "pycharm": {
     "name": "#%%\n"
    }
   },
   "outputs": [
    {
     "data": {
      "text/plain": [
       "{'daisy': 0, 'dandelion': 1, 'rose': 2, 'sunflower': 3, 'tulip': 4}"
      ]
     },
     "execution_count": 215,
     "metadata": {},
     "output_type": "execute_result"
    }
   ],
   "source": [
    "flower_dataset.class_to_idx"
   ]
  },
  {
   "cell_type": "markdown",
   "id": "5402bc30",
   "metadata": {
    "pycharm": {
     "name": "#%% md\n"
    }
   },
   "source": [
    "Now, define dictionary which replace key-value pairs (idx to class)"
   ]
  },
  {
   "cell_type": "code",
   "execution_count": 198,
   "id": "2fef5324",
   "metadata": {
    "pycharm": {
     "name": "#%%\n"
    }
   },
   "outputs": [
    {
     "data": {
      "text/plain": [
       "{0: 'daisy', 1: 'dandelion', 2: 'rose', 3: 'sunflower', 4: 'tulip'}"
      ]
     },
     "execution_count": 198,
     "metadata": {},
     "output_type": "execute_result"
    }
   ],
   "source": [
    "#Dict used for \n",
    "idx2class = {v: k for k, v in flower_dataset.class_to_idx.items()}\n",
    "idx2class"
   ]
  },
  {
   "cell_type": "markdown",
   "id": "891b8f68",
   "metadata": {
    "pycharm": {
     "name": "#%% md\n"
    }
   },
   "source": [
    "For understanding distribution of classes in dataset, lets define following function"
   ]
  },
  {
   "cell_type": "code",
   "execution_count": 200,
   "id": "827378cc",
   "metadata": {
    "pycharm": {
     "name": "#%%\n"
    }
   },
   "outputs": [
    {
     "name": "stdout",
     "output_type": "stream",
     "text": [
      "Distribution of classes: \n",
      " {'daisy': 764, 'dandelion': 1052, 'rose': 784, 'sunflower': 733, 'tulip': 984}\n"
     ]
    }
   ],
   "source": [
    "def get_class_distribution(dataset_obj):\n",
    "    count_dict = {k:0 for k,v in dataset_obj.class_to_idx.items()}\n",
    "    \n",
    "    for element in dataset_obj:\n",
    "        y_lbl = element[1]\n",
    "        y_lbl = idx2class[y_lbl]\n",
    "        count_dict[y_lbl] += 1\n",
    "            \n",
    "    return count_dict\n",
    "print(\"Distribution of classes: \\n\", get_class_distribution(flower_dataset))"
   ]
  },
  {
   "cell_type": "markdown",
   "id": "2efcccc6",
   "metadata": {
    "pycharm": {
     "name": "#%% md\n"
    }
   },
   "source": [
    "As we saw in previous step, class distribution isnt balanced. But imbalance level no critical\n",
    "\n",
    "We can use sklearn's train_test_split, which let us split dataset using stratification "
   ]
  },
  {
   "cell_type": "code",
   "execution_count": 216,
   "id": "f416824b",
   "metadata": {
    "pycharm": {
     "name": "#%%\n"
    }
   },
   "outputs": [],
   "source": [
    "targets = flower_dataset.targets\n",
    "\n",
    "train_idx, valid_idx= train_test_split(\n",
    "    np.arange(len(targets)), test_size=0.2, random_state=42, shuffle=True, stratify=targets)\n"
   ]
  },
  {
   "cell_type": "code",
   "execution_count": 217,
   "id": "d4051260",
   "metadata": {
    "pycharm": {
     "name": "#%%\n"
    }
   },
   "outputs": [],
   "source": [
    "train_sampler = SubsetRandomSampler(train_idx)\n",
    "val_sampler = SubsetRandomSampler(valid_idx)"
   ]
  },
  {
   "cell_type": "code",
   "execution_count": 218,
   "id": "9a2e8d0f",
   "metadata": {
    "pycharm": {
     "name": "#%%\n"
    }
   },
   "outputs": [],
   "source": [
    "train_loader = DataLoader(dataset=flower_dataset, shuffle=False, batch_size=1, sampler=train_sampler)\n",
    "val_loader = DataLoader(dataset=flower_dataset, shuffle=False, batch_size=1, sampler=val_sampler)"
   ]
  },
  {
   "cell_type": "markdown",
   "id": "f9bd7732",
   "metadata": {
    "pycharm": {
     "name": "#%% md\n"
    }
   },
   "source": [
    "Similarly, we can define function for understanding classes distribution in DataLoaders"
   ]
  },
  {
   "cell_type": "code",
   "execution_count": null,
   "id": "b5cbb570",
   "metadata": {
    "pycharm": {
     "name": "#%%\n"
    }
   },
   "outputs": [],
   "source": [
    "def get_class_distribution_loaders(dataloader_obj, dataset_obj):\n",
    "    count_dict = {k:0 for k,v in dataset_obj.class_to_idx.items()}\n",
    "    \n",
    "    for _,j in dataloader_obj:\n",
    "        y_idx = j.item()\n",
    "        y_lbl = idx2class[y_idx]\n",
    "        count_dict[str(y_lbl)] += 1\n",
    "            \n",
    "    return count_dict"
   ]
  },
  {
   "cell_type": "code",
   "execution_count": 209,
   "id": "40d8ed3b",
   "metadata": {
    "pycharm": {
     "name": "#%%\n"
    }
   },
   "outputs": [
    {
     "data": {
      "text/plain": [
       "{'daisy': 611, 'dandelion': 842, 'rose': 627, 'sunflower': 586, 'tulip': 787}"
      ]
     },
     "execution_count": 209,
     "metadata": {},
     "output_type": "execute_result"
    }
   ],
   "source": [
    "get_class_distribution_loaders(train_loader, flower_dataset)"
   ]
  },
  {
   "cell_type": "code",
   "execution_count": 211,
   "id": "45d19f28",
   "metadata": {
    "pycharm": {
     "name": "#%%\n"
    }
   },
   "outputs": [
    {
     "data": {
      "text/plain": [
       "{'daisy': 153, 'dandelion': 210, 'rose': 157, 'sunflower': 147, 'tulip': 197}"
      ]
     },
     "execution_count": 211,
     "metadata": {},
     "output_type": "execute_result"
    }
   ],
   "source": [
    "get_class_distribution_loaders(val_loader, flower_dataset)"
   ]
  },
  {
   "cell_type": "markdown",
   "id": "2d334a8a",
   "metadata": {
    "pycharm": {
     "name": "#%% md\n"
    }
   },
   "source": [
    "Ratios in both train and val. sets are the same as in original dataset"
   ]
  }
 ],
 "metadata": {
  "kernelspec": {
   "display_name": "Python 3 (ipykernel)",
   "language": "python",
   "name": "python3"
  },
  "language_info": {
   "codemirror_mode": {
    "name": "ipython",
    "version": 3
   },
   "file_extension": ".py",
   "mimetype": "text/x-python",
   "name": "python",
   "nbconvert_exporter": "python",
   "pygments_lexer": "ipython3",
   "version": "3.9.9"
  }
 },
 "nbformat": 4,
 "nbformat_minor": 5
}